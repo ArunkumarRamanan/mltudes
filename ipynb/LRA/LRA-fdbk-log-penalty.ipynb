{
 "cells": [
  {
   "cell_type": "code",
   "execution_count": 1,
   "metadata": {},
   "outputs": [
    {
     "name": "stdout",
     "output_type": "stream",
     "text": [
      "0.4.1\n"
     ]
    }
   ],
   "source": [
    "import numpy as np\n",
    "import torch\n",
    "print(torch.__version__)\n",
    "\n",
    "np.random.seed(42)"
   ]
  },
  {
   "cell_type": "code",
   "execution_count": 2,
   "metadata": {},
   "outputs": [
    {
     "name": "stdout",
     "output_type": "stream",
     "text": [
      "cpu\n"
     ]
    }
   ],
   "source": [
    "device = 'cuda' if torch.cuda.is_available() else 'cpu'\n",
    "print(device)"
   ]
  },
  {
   "cell_type": "code",
   "execution_count": 3,
   "metadata": {},
   "outputs": [],
   "source": [
    "class Layer:\n",
    "    def __init__(self):\n",
    "        pass\n",
    "    \n",
    "    def forward(self, input):\n",
    "        pass\n",
    "    \n",
    "    def backward(self, input, grad_output):\n",
    "        pass"
   ]
  },
  {
   "cell_type": "code",
   "execution_count": 4,
   "metadata": {},
   "outputs": [],
   "source": [
    "class ReLU(Layer):\n",
    "    def __init__(self):\n",
    "        pass\n",
    "    \n",
    "    def forward(self, input):\n",
    "        output = torch.max(input, torch.tensor([0.], device=device))\n",
    "        return output"
   ]
  },
  {
   "cell_type": "code",
   "execution_count": 5,
   "metadata": {},
   "outputs": [],
   "source": [
    "class LecunTanh(Layer):\n",
    "    def __init__(self):\n",
    "        pass\n",
    "    \n",
    "    def forward(self, input):\n",
    "        output = 1.7159 * torch.tanh(input)\n",
    "        return output"
   ]
  },
  {
   "cell_type": "code",
   "execution_count": 6,
   "metadata": {},
   "outputs": [],
   "source": [
    "class Dense(Layer):\n",
    "    def __init__(self, input_units, output_units, learning_rate=0.1):\n",
    "        self.learning_rate = learning_rate\n",
    "        \n",
    "        # initialize weights with small random numbers. We use normal initialization, \n",
    "        # but surely there is something better. Try this once you got it working: http://bit.ly/2vTlmaJ\n",
    "        self.weights  = torch.randn(input_units, output_units, device=device)*0.1\n",
    "        self.biases   = torch.ones(output_units, device=device)\n",
    "        self.E        = torch.randn(input_units, output_units, device=device) * 2\n",
    "        \n",
    "    def forward(self,input):\n",
    "        return torch.matmul(input, self.weights) + self.biases\n",
    "    \n",
    "    def update(self, w_grad, b_grad):\n",
    "        self.weights = self.weights - self.learning_rate * w_grad\n",
    "        self.biases  = self.biases - self.learning_rate * b_grad\n",
    "        self.E       = self.E - self.learning_rate * w_grad"
   ]
  },
  {
   "cell_type": "code",
   "execution_count": 7,
   "metadata": {},
   "outputs": [
    {
     "data": {
      "image/png": "[encoded data removed]",
      "text/plain": [
       "<matplotlib.figure.Figure at 0x7f2f13823518>"
      ]
     },
     "metadata": {},
     "output_type": "display_data"
    }
   ],
   "source": [
    "import matplotlib.pyplot as plt\n",
    "%matplotlib inline\n",
    "\n",
    "from mnist import load_dataset\n",
    "X_train, y_train, X_val, y_val, X_test, y_test = load_dataset(flatten=True)\n",
    "\n",
    "plt.figure(figsize=[6,6])\n",
    "for i in range(4):\n",
    "    plt.subplot(2,2,i+1)\n",
    "    plt.title(\"Label: %i\"%y_train[i])\n",
    "    plt.imshow(X_train[i].reshape([28,28]),cmap='gray');"
   ]
  },
  {
   "cell_type": "code",
   "execution_count": 8,
   "metadata": {},
   "outputs": [],
   "source": [
    "X_train = torch.from_numpy(X_train).float().to(device)\n",
    "X_val   = torch.from_numpy(X_val).float().to(device)\n",
    "X_test  = torch.from_numpy(X_test).float().to(device)"
   ]
  },
  {
   "cell_type": "code",
   "execution_count": 9,
   "metadata": {},
   "outputs": [],
   "source": [
    "def forward(network, X):\n",
    "    activations = []\n",
    "    input       = X\n",
    "    \n",
    "    for layer in network:\n",
    "        input = layer.forward(input)\n",
    "        activations.append(input)\n",
    "        \n",
    "    assert len(activations) == len(network)\n",
    "    return activations\n",
    "\n",
    "def predict(network, X):\n",
    "    logits = forward(network, X)[-1]\n",
    "    return logits.cpu().detach().numpy().argmax(axis=-1)\n",
    "\n",
    "def normalize(vec, c):\n",
    "    norm = torch.norm(vec)\n",
    "    \n",
    "    if norm >= c:\n",
    "        return (c * vec) / norm\n",
    "    else:\n",
    "        return vec"
   ]
  },
  {
   "cell_type": "markdown",
   "metadata": {},
   "source": [
    "### LRA-fdbk"
   ]
  },
  {
   "cell_type": "code",
   "execution_count": 10,
   "metadata": {},
   "outputs": [],
   "source": [
    "from tqdm import trange\n",
    "\n",
    "def iterate_minibatches(inputs, targets, batchsize, shuffle=False):\n",
    "    assert len(inputs) == len(targets)\n",
    "    if shuffle:\n",
    "        indices = np.random.permutation(len(inputs))\n",
    "    for start_idx in trange(0, len(inputs) - batchsize + 1, batchsize):\n",
    "        if shuffle:\n",
    "            excerpt = indices[start_idx:start_idx + batchsize]\n",
    "        else:\n",
    "            excerpt = slice(start_idx, start_idx + batchsize)\n",
    "        yield inputs[excerpt], targets[excerpt]"
   ]
  },
  {
   "cell_type": "code",
   "execution_count": 11,
   "metadata": {},
   "outputs": [],
   "source": [
    "def train(network, X, y):\n",
    "    # parameters\n",
    "    beta = .1\n",
    "    c1   = 1\n",
    "    c2   = 1\n",
    "    K    = 2\n",
    "\n",
    "    activations = forward(network, X)\n",
    "    n_layers    = len(network) // 2 + 1\n",
    "    layer       = n_layers\n",
    "    l           = len(network)\n",
    "\n",
    "    h_l         = activations[::2]\n",
    "    y_l_h       = h_l.copy()\n",
    "    h_l_hat     = h_l.copy()\n",
    "    z_l         = [X[:2]] + activations[1::2]\n",
    "    y_l_z       = z_l.copy()\n",
    "    z_l_hat     = z_l.copy()\n",
    "\n",
    "    y_l_z       = z_l.copy() + [torch.from_numpy(y).long().to(device)]\n",
    "\n",
    "    W_grads     = []\n",
    "    b_grads     = []\n",
    "\n",
    "    while layer > 1:\n",
    "#         print('layer is: {}'.format(layer))\n",
    "\n",
    "        # lth layer\n",
    "        W_l = network[l-1].weights\n",
    "        b_l = network[l-1].biases\n",
    "        E_l = network[l-1].E\n",
    "\n",
    "        # final layer\n",
    "        if l == len(network):\n",
    "            # final layer ( wx + b )\n",
    "            scores  = activations[-1]\n",
    "\n",
    "            # final layer negative log likelihood loss\n",
    "            loss = torch.functional.F.nll_loss(scores, y_l_z[layer])\n",
    "\n",
    "            # dL / dz\n",
    "            m    = y_l_z[layer - 1].shape[0]\n",
    "            grad = torch.exp(scores) / torch.sum(torch.exp(scores), dim=1)[:, None]\n",
    "            grad[range(m),y_l_z[layer].long()] -= 1\n",
    "            grad = grad/m\n",
    "            \n",
    "            # dL / dW, dL / db\n",
    "            W_l_grad = normalize(torch.matmul(torch.transpose(z_l[layer - 1], -1, 0), grad), c1)\n",
    "            b_l_grad = normalize(torch.matmul(torch.transpose(grad, -1, 0), torch.ones_like(y_l_z[layer]).float()), c1)\n",
    "            \n",
    "            W_grads.append(W_l_grad)\n",
    "            b_grads.append(b_l_grad)\n",
    "\n",
    "        else:\n",
    "            # lth layer ( cauchy loss )\n",
    "#             mse_loss     = torch.nn.MSELoss()\n",
    "            cauchy_loss  = torch.sum(torch.log(1 + (y_l_z[layer] - z_l[layer])))\n",
    "            \n",
    "            # dL / dw, dL / db\n",
    "            grad     = 1 / ( 1 + (y_l_z[layer] - z_l[layer]) ** 2) * 2 * (y_l_z[layer] - z_l[layer]) * (torch.tanh(h_l[layer - 1]) ** 2 - 1) * 1.7159\n",
    "            W_l_grad = torch.matmul(torch.transpose(z_l[layer - 1], -1, 0), grad) / len(z_l[layer])          \n",
    "            W_l_grad = normalize(W_l_grad, c1)\n",
    "            b_l_grad = normalize(torch.matmul(torch.transpose(grad, -1, 0), \n",
    "                                              torch.ones(y_l_z[layer].shape[0], 1, device=device).float()).flatten(), c1) / len(z_l[layer])\n",
    "\n",
    "            W_grads.append(W_l_grad)\n",
    "            b_grads.append(b_l_grad)\n",
    "\n",
    "        \n",
    "        for k in range(K):\n",
    "            dh    = grad\n",
    "            dh    = torch.matmul(grad, torch.transpose(E_l, -1, 0))\n",
    "            \n",
    "            # dL / dh(l-1)\n",
    "            dh_l_1  = normalize(dh, c2)\n",
    "\n",
    "            h_l_hat[layer-2] = h_l_hat[layer - 2] - beta * dh_l_1            # update h1\n",
    "            z_l_hat[layer-1] = network[l-2].forward(h_l_hat[layer - 2])      # update z2\n",
    "            h_l_hat[layer-1] = torch.matmul(z_l_hat[layer - 1], W_l) + b_l   # update h2\n",
    "\n",
    "        y_l_z[layer - 1] = z_l_hat[layer - 1]                            # update y2\n",
    "        l     -= 2\n",
    "\n",
    "        # update to layer\n",
    "        layer -= 1\n",
    "\n",
    "    W_grads = W_grads[::-1]\n",
    "    b_grads = b_grads[::-1]\n",
    "    \n",
    "    return W_grads, b_grads"
   ]
  },
  {
   "cell_type": "code",
   "execution_count": 12,
   "metadata": {},
   "outputs": [],
   "source": [
    "from IPython.display import clear_output\n",
    "train_log = []\n",
    "val_log = []"
   ]
  },
  {
   "cell_type": "code",
   "execution_count": 13,
   "metadata": {},
   "outputs": [],
   "source": [
    "network = []\n",
    "network.append(Dense(X_train.shape[1], 128))\n",
    "network.append(LecunTanh())\n",
    "network.append(Dense(128, 128))\n",
    "network.append(LecunTanh())\n",
    "network.append(Dense(128, 128))\n",
    "network.append(LecunTanh())\n",
    "network.append(Dense(128, 128))\n",
    "network.append(LecunTanh())\n",
    "network.append(Dense(128, 10))"
   ]
  },
  {
   "cell_type": "code",
   "execution_count": 14,
   "metadata": {},
   "outputs": [
    {
     "name": "stdout",
     "output_type": "stream",
     "text": [
      "Epoch 24\n",
      "Train accuracy: 0.95098\n",
      "Val accuracy: 0.9361\n"
     ]
    },
    {
     "data": {
      "image/png": "[encoded data removed]",
      "text/plain": [
       "<matplotlib.figure.Figure at 0x7f2f1074edd8>"
      ]
     },
     "metadata": {},
     "output_type": "display_data"
    }
   ],
   "source": [
    "for epoch in range(25):\n",
    "    batch_count = 0\n",
    "    \n",
    "#     print(network[2].weights[:, :10])\n",
    "        \n",
    "    for x_batch,y_batch in iterate_minibatches(X_train, y_train, batchsize=50, shuffle=True):        \n",
    "        W_grads, b_grads = train(network, x_batch, y_batch)\n",
    "        layer    = 0\n",
    "        \n",
    "        for l in range(2, len(network), 2):            \n",
    "            network[l].update(W_grads[layer], b_grads[layer])\n",
    "            layer += 1\n",
    "    \n",
    "#     print(network[2].weights[:, :10])\n",
    "\n",
    "#     print()\n",
    "    train_log.append(np.mean(predict(network, X_train) == y_train))\n",
    "    val_log.append(np.mean(predict(network, X_val) == y_val))\n",
    "    \n",
    "    clear_output()\n",
    "    print(\"Epoch\",epoch)\n",
    "    print(\"Train accuracy:\",train_log[-1])\n",
    "    print(\"Val accuracy:\",val_log[-1])\n",
    "    plt.plot(train_log,label='train accuracy')\n",
    "    plt.plot(val_log,label='val accuracy')\n",
    "    plt.legend(loc='best')\n",
    "    plt.grid()\n",
    "    plt.show()\n",
    "    "
   ]
  },
  {
   "cell_type": "code",
   "execution_count": 15,
   "metadata": {},
   "outputs": [
    {
     "data": {
      "text/plain": [
       "0.06769999999999998"
      ]
     },
     "execution_count": 15,
     "metadata": {},
     "output_type": "execute_result"
    }
   ],
   "source": [
    "# performance on test set\n",
    "1 - np.mean(predict(network, X_test) == y_test)"
   ]
  },
  {
   "cell_type": "code",
   "execution_count": null,
   "metadata": {},
   "outputs": [],
   "source": []
  }
 ],
 "metadata": {
  "kernelspec": {
   "display_name": "Python 3",
   "language": "python",
   "name": "python3"
  },
  "language_info": {
   "codemirror_mode": {
    "name": "ipython",
    "version": 3
   },
   "file_extension": ".py",
   "mimetype": "text/x-python",
   "name": "python",
   "nbconvert_exporter": "python",
   "pygments_lexer": "ipython3",
   "version": "3.6.1"
  },
  "toc": {
   "colors": {
    "hover_highlight": "#DAA520",
    "navigate_num": "#000000",
    "navigate_text": "#333333",
    "running_highlight": "#FF0000",
    "selected_highlight": "#FFD700",
    "sidebar_border": "#EEEEEE",
    "wrapper_background": "#FFFFFF"
   },
   "moveMenuLeft": true,
   "nav_menu": {
    "height": "264px",
    "width": "252px"
   },
   "navigate_menu": true,
   "number_sections": true,
   "sideBar": true,
   "threshold": 4,
   "toc_cell": false,
   "toc_section_display": "block",
   "toc_window_display": false,
   "widenNotebook": false
  }
 },
 "nbformat": 4,
 "nbformat_minor": 2
}

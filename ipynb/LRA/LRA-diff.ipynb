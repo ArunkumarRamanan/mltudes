{
 "cells": [
  {
   "cell_type": "code",
   "execution_count": 1,
   "metadata": {},
   "outputs": [
    {
     "name": "stdout",
     "output_type": "stream",
     "text": [
      "0.4.1\n"
     ]
    }
   ],
   "source": [
    "import numpy as np\n",
    "import torch\n",
    "print(torch.__version__)\n",
    "\n",
    "np.random.seed(42)"
   ]
  },
  {
   "cell_type": "code",
   "execution_count": 2,
   "metadata": {},
   "outputs": [],
   "source": [
    "class Layer:\n",
    "    def __init__(self):\n",
    "        pass\n",
    "    \n",
    "    def forward(self, input):\n",
    "        pass\n",
    "    \n",
    "    def backward(self, input, grad_output):\n",
    "        pass"
   ]
  },
  {
   "cell_type": "code",
   "execution_count": 3,
   "metadata": {},
   "outputs": [],
   "source": [
    "class ReLU(Layer):\n",
    "    def __init__(self):\n",
    "        pass\n",
    "    \n",
    "    def forward(self, input):\n",
    "        output = torch.max(input, torch.tensor([0.], device='cpu'))\n",
    "        return output"
   ]
  },
  {
   "cell_type": "code",
   "execution_count": 4,
   "metadata": {},
   "outputs": [],
   "source": [
    "class Dense(Layer):\n",
    "    def __init__(self, input_units, output_units, learning_rate=0.1):\n",
    "        self.learning_rate = learning_rate\n",
    "        \n",
    "        # initialize weights with small random numbers. We use normal initialization, \n",
    "        # but surely there is something better. Try this once you got it working: http://bit.ly/2vTlmaJ\n",
    "        self.weights = torch.randn(input_units, output_units, device='cpu', requires_grad=True)*0.01\n",
    "        self.biases  = torch.ones(output_units, device='cpu', requires_grad=True)\n",
    "        \n",
    "    def forward(self,input):\n",
    "        return torch.matmul(input, self.weights) + self.biases\n",
    "    \n",
    "    def backward(self, w_grad, b_grad):\n",
    "        self.weights = self.weights - self.learning_rate * w_grad\n",
    "        self.biases  = self.biases - self.learning_rate * b_grad"
   ]
  },
  {
   "cell_type": "code",
   "execution_count": 6,
   "metadata": {},
   "outputs": [
    {
     "data": {
      "image/png": "[encoded data removed]",
      "text/plain": [
       "<matplotlib.figure.Figure at 0x7f715bf1c4e0>"
      ]
     },
     "metadata": {},
     "output_type": "display_data"
    }
   ],
   "source": [
    "import matplotlib.pyplot as plt\n",
    "%matplotlib inline\n",
    "\n",
    "from mnist import load_dataset\n",
    "X_train, y_train, X_val, y_val, X_test, y_test = load_dataset(flatten=True)\n",
    "\n",
    "plt.figure(figsize=[6,6])\n",
    "for i in range(4):\n",
    "    plt.subplot(2,2,i+1)\n",
    "    plt.title(\"Label: %i\"%y_train[i])\n",
    "    plt.imshow(X_train[i].reshape([28,28]),cmap='gray');"
   ]
  },
  {
   "cell_type": "code",
   "execution_count": 7,
   "metadata": {},
   "outputs": [
    {
     "data": {
      "text/plain": [
       "tensor([[0., 0., 0.,  ..., 0., 0., 0.],\n",
       "        [0., 0., 0.,  ..., 0., 0., 0.],\n",
       "        [0., 0., 0.,  ..., 0., 0., 0.],\n",
       "        ...,\n",
       "        [0., 0., 0.,  ..., 0., 0., 0.],\n",
       "        [0., 0., 0.,  ..., 0., 0., 0.],\n",
       "        [0., 0., 0.,  ..., 0., 0., 0.]], requires_grad=True)"
      ]
     },
     "execution_count": 7,
     "metadata": {},
     "output_type": "execute_result"
    }
   ],
   "source": [
    "X_train = torch.from_numpy(X_train).float().to('cpu')\n",
    "X_train.requires_grad_(True)\n",
    "\n",
    "X_val = torch.from_numpy(X_val).float().to('cpu')\n",
    "X_val.requires_grad_(True)\n",
    "\n",
    "X_test = torch.from_numpy(X_test).float().to('cpu')\n",
    "X_test.requires_grad_(True)"
   ]
  },
  {
   "cell_type": "code",
   "execution_count": 163,
   "metadata": {},
   "outputs": [],
   "source": [
    "def forward(network, X):\n",
    "    activations = []\n",
    "    input       = X\n",
    "    \n",
    "    for layer in network:\n",
    "        input = layer.forward(input)\n",
    "        activations.append(input)\n",
    "        \n",
    "    assert len(activations) == len(network)\n",
    "    return activations\n",
    "\n",
    "def predict(network, X):\n",
    "    logits = forward(network, X)[-1]\n",
    "    return logits.cpu().detach().numpy().argmax(axis=-1)\n",
    "\n",
    "def normalize(vec, c):\n",
    "    norm = torch.norm(vec)\n",
    "    \n",
    "    if norm >= c:\n",
    "        return (c * vec) / norm\n",
    "    else:\n",
    "        return vec"
   ]
  },
  {
   "cell_type": "markdown",
   "metadata": {},
   "source": [
    "### LRA-diff"
   ]
  },
  {
   "cell_type": "code",
   "execution_count": 164,
   "metadata": {},
   "outputs": [],
   "source": [
    "def train(network,X,y):\n",
    "    \n",
    "    # parameters\n",
    "    K        = 5\n",
    "    beta     = .001\n",
    "    n_layers = len(network) // 2 + 1\n",
    "    layer    = n_layers\n",
    "    c        = 1\n",
    "    \n",
    "    # forward pass\n",
    "    act = forward(network, X)\n",
    "    \n",
    "    pre_activations      = act[::2] # h\n",
    "    pre_activations_tmp  = pre_activations.copy() # h_hat\n",
    "\n",
    "    post_activations     = [X] + act[1::2] # z\n",
    "    layer_post_target    = post_activations.copy() # y_z\n",
    "    post_activations_tmp = post_activations.copy() # z_hat\n",
    "\n",
    "    layer_post_target    = layer_post_target + [torch.from_numpy(y).long().to('cpu')]\n",
    "    W_grads              = []\n",
    "    b_grads              = []\n",
    "    \n",
    "    for l in range(len(network) - 1, 0, -2):\n",
    "        W                   = torch.from_numpy(network[l].weights.cpu().detach().numpy()).to('cpu')\n",
    "        W.requires_grad_(True)\n",
    "        \n",
    "        b                   = torch.from_numpy(network[l].biases.cpu().detach().numpy()).to('cpu')\n",
    "        b.requires_grad_(True)\n",
    "        \n",
    "        z_l_1                = torch.from_numpy(post_activations[layer-1].cpu().detach().numpy()).to('cpu') # z_(l-1)\n",
    "        z_l_1.requires_grad_(True)\n",
    "        \n",
    "        z_l                  = torch.matmul(z_l_1, W) + b # z_l\n",
    "        \n",
    "        if l == len(network) - 1: \n",
    "            loss = torch.functional.F.nll_loss(z_l, layer_post_target[layer])\n",
    "        else:\n",
    "            mse_loss = torch.nn.MSELoss()\n",
    "            loss     = mse_loss(z_l, layer_post_target[layer])\n",
    "            \n",
    "        loss.backward(retain_graph=True)\n",
    "        \n",
    "        w_grad = normalize(W.grad, c)\n",
    "        b_grad = normalize(b.grad, c)\n",
    "\n",
    "        W_grads.append(w_grad)\n",
    "        b_grads.append(b_grad)\n",
    "        \n",
    "        # zero out gradients\n",
    "        W.grad.zero_()\n",
    "        b.grad.zero_()\n",
    "        \n",
    "        for k in range(K):\n",
    "            h_l_1  = torch.from_numpy(pre_activations[layer-2].cpu().detach().numpy()).to('cpu')\n",
    "            h_l_1.requires_grad_(True)\n",
    "\n",
    "            z_l_1  = network[l-1].forward(h_l_1)\n",
    "            z_l    = torch.matmul(z_l_1, W) + b\n",
    "            \n",
    "            if l == len(network) - 1:\n",
    "                loss   = torch.functional.F.nll_loss(z_l, layer_post_target[layer])\n",
    "            else:\n",
    "                loss = torch.nn.MSELoss()\n",
    "                loss = mse_loss(z_l, layer_post_target[layer])\n",
    "            \n",
    "            loss.backward(retain_graph=True)    \n",
    "            h_l_1_grad            = h_l_1.grad\n",
    "            \n",
    "            # normalize h_l_1_grad\n",
    "            h_l_1_grad = normalize(h_l_1_grad, c)\n",
    "            \n",
    "            # updates\n",
    "            pre_activations[layer-2]  = h_l_1 - beta * h_l_1_grad\n",
    "            post_activations[layer-1] = network[l-1].forward(pre_activations[layer-2])\n",
    "            pre_activations[layer-1]  = torch.matmul(z_l_1, W) + b\n",
    "            \n",
    "            h_l_1.grad.zero_() # zero out gradients\n",
    "\n",
    "#             if layer != n_layers-1:\n",
    "#                 post_activations[layer-1] = network[l].forward(pre_activations[layer-1])\n",
    "        \n",
    "        layer_post_target[layer-1] = post_activations[layer-1]\n",
    "        layer -= 1\n",
    "    \n",
    "        \n",
    "    return W_grads[::-1], b_grads[::-1]"
   ]
  },
  {
   "cell_type": "code",
   "execution_count": 165,
   "metadata": {},
   "outputs": [],
   "source": [
    "from tqdm import trange\n",
    "def iterate_minibatches(inputs, targets, batchsize, shuffle=False):\n",
    "    assert len(inputs) == len(targets)\n",
    "    if shuffle:\n",
    "        indices = np.random.permutation(len(inputs))\n",
    "    for start_idx in trange(0, len(inputs) - batchsize + 1, batchsize):\n",
    "        if shuffle:\n",
    "            excerpt = indices[start_idx:start_idx + batchsize]\n",
    "        else:\n",
    "            excerpt = slice(start_idx, start_idx + batchsize)\n",
    "        yield inputs[excerpt], targets[excerpt]"
   ]
  },
  {
   "cell_type": "code",
   "execution_count": 172,
   "metadata": {},
   "outputs": [],
   "source": [
    "from IPython.display import clear_output\n",
    "train_log = []\n",
    "val_log = []"
   ]
  },
  {
   "cell_type": "code",
   "execution_count": 173,
   "metadata": {},
   "outputs": [],
   "source": [
    "network = []\n",
    "network.append(Dense(X_train.shape[1], 100))\n",
    "network.append(ReLU())\n",
    "network.append(Dense(100, 200))\n",
    "network.append(ReLU())\n",
    "network.append(Dense(200, 10))"
   ]
  },
  {
   "cell_type": "code",
   "execution_count": 174,
   "metadata": {},
   "outputs": [
    {
     "name": "stderr",
     "output_type": "stream",
     "text": [
      "  1%|          | 14/1562 [00:00<00:11, 135.82it/s]"
     ]
    },
    {
     "name": "stdout",
     "output_type": "stream",
     "text": [
      "****************************************************************************************************\n",
      "tensor([[ 0.0010,  0.0153,  0.0019, -0.0027, -0.0112, -0.0149, -0.0089, -0.0063,\n",
      "          0.0070, -0.0091],\n",
      "        [ 0.0029,  0.0206,  0.0009, -0.0133, -0.0054, -0.0060, -0.0025,  0.0008,\n",
      "          0.0107, -0.0115],\n",
      "        [-0.0073,  0.0179, -0.0159,  0.0170,  0.0047,  0.0011,  0.0069,  0.0126,\n",
      "          0.0193,  0.0104],\n",
      "        [-0.0046, -0.0135,  0.0012,  0.0107,  0.0106,  0.0015, -0.0012, -0.0063,\n",
      "         -0.0076,  0.0025],\n",
      "        [ 0.0078, -0.0043,  0.0216, -0.0168,  0.0042,  0.0143, -0.0182, -0.0004,\n",
      "          0.0041,  0.0085],\n",
      "        [ 0.0083, -0.0045, -0.0156,  0.0046,  0.0101,  0.0081, -0.0102, -0.0042,\n",
      "          0.0006,  0.0060],\n",
      "        [-0.0148,  0.0040,  0.0096,  0.0136, -0.0018,  0.0040,  0.0085, -0.0266,\n",
      "          0.0046, -0.0090],\n",
      "        [ 0.0062,  0.0019, -0.0083,  0.0001, -0.0128,  0.0093, -0.0004,  0.0035,\n",
      "         -0.0026,  0.0045],\n",
      "        [-0.0056,  0.0148, -0.0023,  0.0096,  0.0073,  0.0004,  0.0037, -0.0071,\n",
      "         -0.0017, -0.0171],\n",
      "        [-0.0027,  0.0010, -0.0141,  0.0032,  0.0067, -0.0008, -0.0226,  0.0041,\n",
      "          0.0178,  0.0015]], grad_fn=<SliceBackward>)\n"
     ]
    },
    {
     "name": "stderr",
     "output_type": "stream",
     "text": [
      "100%|██████████| 1562/1562 [00:12<00:00, 121.49it/s]\n"
     ]
    },
    {
     "name": "stdout",
     "output_type": "stream",
     "text": [
      "\n",
      "tensor([[3.1324, 3.6260, 3.1680, 3.2393, 3.0771, 2.8488, 3.1505, 3.2793, 3.0825,\n",
      "         3.1676],\n",
      "        [2.8947, 3.3530, 2.9242, 2.9807, 2.8439, 2.6380, 2.9106, 3.0315, 2.8515,\n",
      "         2.9193],\n",
      "        [3.5321, 4.1009, 3.5622, 3.6784, 3.4931, 3.2394, 3.5757, 3.7254, 3.4987,\n",
      "         3.6016],\n",
      "        [3.1344, 3.6100, 3.1779, 3.2623, 3.1076, 2.8734, 3.1684, 3.2892, 3.0775,\n",
      "         3.1880],\n",
      "        [3.5959, 4.1307, 3.6484, 3.6952, 3.5376, 3.2960, 3.5987, 3.7613, 3.5290,\n",
      "         3.6469],\n",
      "        [2.8391, 3.2605, 2.8467, 2.9360, 2.8008, 2.5984, 2.8449, 2.9667, 2.7829,\n",
      "         2.8783],\n",
      "        [3.2315, 3.7496, 3.2936, 3.3750, 3.1987, 2.9742, 3.2843, 3.3791, 3.1951,\n",
      "         3.2842],\n",
      "        [2.7459, 3.1594, 2.7600, 2.8336, 2.6867, 2.5144, 2.7602, 2.8757, 2.6893,\n",
      "         2.7828],\n",
      "        [2.6524, 3.0775, 2.6853, 2.7598, 2.6260, 2.4318, 2.6815, 2.7785, 2.6110,\n",
      "         2.6786],\n",
      "        [2.9420, 3.3970, 2.9650, 3.0533, 2.9089, 2.6922, 2.9472, 3.0932, 2.9119,\n",
      "         2.9878]], grad_fn=<SliceBackward>)\n"
     ]
    },
    {
     "name": "stderr",
     "output_type": "stream",
     "text": [
      "  1%|          | 11/1562 [00:00<00:14, 106.97it/s]"
     ]
    },
    {
     "name": "stdout",
     "output_type": "stream",
     "text": [
      "****************************************************************************************************\n",
      "tensor([[3.1324, 3.6260, 3.1680, 3.2393, 3.0771, 2.8488, 3.1505, 3.2793, 3.0825,\n",
      "         3.1676],\n",
      "        [2.8947, 3.3530, 2.9242, 2.9807, 2.8439, 2.6380, 2.9106, 3.0315, 2.8515,\n",
      "         2.9193],\n",
      "        [3.5321, 4.1009, 3.5622, 3.6784, 3.4931, 3.2394, 3.5757, 3.7254, 3.4987,\n",
      "         3.6016],\n",
      "        [3.1344, 3.6100, 3.1779, 3.2623, 3.1076, 2.8734, 3.1684, 3.2892, 3.0775,\n",
      "         3.1880],\n",
      "        [3.5959, 4.1307, 3.6484, 3.6952, 3.5376, 3.2960, 3.5987, 3.7613, 3.5290,\n",
      "         3.6469],\n",
      "        [2.8391, 3.2605, 2.8467, 2.9360, 2.8008, 2.5984, 2.8449, 2.9667, 2.7829,\n",
      "         2.8783],\n",
      "        [3.2315, 3.7496, 3.2936, 3.3750, 3.1987, 2.9742, 3.2843, 3.3791, 3.1951,\n",
      "         3.2842],\n",
      "        [2.7459, 3.1594, 2.7600, 2.8336, 2.6867, 2.5144, 2.7602, 2.8757, 2.6893,\n",
      "         2.7828],\n",
      "        [2.6524, 3.0775, 2.6853, 2.7598, 2.6260, 2.4318, 2.6815, 2.7785, 2.6110,\n",
      "         2.6786],\n",
      "        [2.9420, 3.3970, 2.9650, 3.0533, 2.9089, 2.6922, 2.9472, 3.0932, 2.9119,\n",
      "         2.9878]], grad_fn=<SliceBackward>)\n"
     ]
    },
    {
     "name": "stderr",
     "output_type": "stream",
     "text": [
      "100%|██████████| 1562/1562 [00:15<00:00, 103.32it/s]\n"
     ]
    },
    {
     "name": "stdout",
     "output_type": "stream",
     "text": [
      "\n",
      "tensor([[6.0556, 7.0011, 6.1324, 6.2698, 5.9653, 5.5276, 6.1019, 6.3546, 5.9672,\n",
      "         6.1323],\n",
      "        [5.7747, 6.6776, 5.8447, 5.9665, 5.6887, 5.2768, 5.8179, 6.0602, 5.6936,\n",
      "         5.8389],\n",
      "        [7.1879, 8.3210, 7.2695, 7.4683, 7.1051, 6.5889, 7.2678, 7.5715, 7.1072,\n",
      "         7.3092],\n",
      "        [6.0624, 6.9919, 6.1483, 6.2985, 6.0010, 5.5570, 6.1256, 6.3702, 5.9675,\n",
      "         6.1580],\n",
      "        [7.2963, 8.4005, 7.3998, 7.5306, 7.1923, 6.6857, 7.3348, 7.6531, 7.1803,\n",
      "         7.3984],\n",
      "        [5.6533, 6.5084, 5.7000, 5.8534, 5.5809, 5.1770, 5.6863, 5.9272, 5.5601,\n",
      "         5.7320],\n",
      "        [6.3464, 7.3473, 6.4538, 6.6050, 6.2766, 5.8294, 6.4302, 6.6569, 6.2699,\n",
      "         6.4445],\n",
      "        [5.5606, 6.4069, 5.6132, 5.7509, 5.4670, 5.0928, 5.6017, 5.8357, 5.4667,\n",
      "         5.6364],\n",
      "        [5.4651, 6.3231, 5.5374, 5.6756, 5.4045, 5.0089, 5.5215, 5.7364, 5.3869,\n",
      "         5.5304],\n",
      "        [5.8541, 6.7602, 5.9188, 6.0731, 5.7858, 5.3607, 5.8880, 6.1570, 5.7867,\n",
      "         5.9409]], grad_fn=<SliceBackward>)\n"
     ]
    }
   ],
   "source": [
    "for epoch in range(2):\n",
    "    print('*' * 100)\n",
    "    print(network[-1].weights[:10])\n",
    "        \n",
    "    for x_batch,y_batch in iterate_minibatches(X_train, y_train, batchsize=32, shuffle=True):\n",
    "        \n",
    "        W_grads, b_grads = train(network, x_batch, y_batch)\n",
    "        layer    = 0\n",
    "        \n",
    "        for l in range(2, len(network), 2):\n",
    "            network[l].backward(W_grads[layer], b_grads[layer])\n",
    "            layer += 1\n",
    "    \n",
    "    print()\n",
    "    print(network[-1].weights[:10])\n",
    "        \n",
    "    train_log.append(np.mean(predict(network, X_train) == y_train))\n",
    "    val_log.append(np.mean(predict(network, X_val) == y_val))\n",
    "    \n",
    "#     clear_output()\n",
    "#     print(\"Epoch\",epoch)\n",
    "#     print(\"Train accuracy:\",train_log[-1])\n",
    "#     print(\"Val accuracy:\",val_log[-1])\n",
    "#     plt.plot(train_log,label='train accuracy')\n",
    "#     plt.plot(val_log,label='val accuracy')\n",
    "#     plt.legend(loc='best')\n",
    "#     plt.grid()\n",
    "#     plt.show()\n",
    "    "
   ]
  }
 ],
 "metadata": {
  "kernelspec": {
   "display_name": "Python 3",
   "language": "python",
   "name": "python3"
  },
  "language_info": {
   "codemirror_mode": {
    "name": "ipython",
    "version": 3
   },
   "file_extension": ".py",
   "mimetype": "text/x-python",
   "name": "python",
   "nbconvert_exporter": "python",
   "pygments_lexer": "ipython3",
   "version": "3.6.1"
  },
  "toc": {
   "colors": {
    "hover_highlight": "#DAA520",
    "navigate_num": "#000000",
    "navigate_text": "#333333",
    "running_highlight": "#FF0000",
    "selected_highlight": "#FFD700",
    "sidebar_border": "#EEEEEE",
    "wrapper_background": "#FFFFFF"
   },
   "moveMenuLeft": true,
   "nav_menu": {
    "height": "264px",
    "width": "252px"
   },
   "navigate_menu": true,
   "number_sections": true,
   "sideBar": true,
   "threshold": 4,
   "toc_cell": false,
   "toc_section_display": "block",
   "toc_window_display": false,
   "widenNotebook": false
  }
 },
 "nbformat": 4,
 "nbformat_minor": 2
}
